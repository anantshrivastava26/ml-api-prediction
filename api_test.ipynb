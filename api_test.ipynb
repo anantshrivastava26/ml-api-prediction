{
 "cells": [
  {
   "cell_type": "code",
   "execution_count": 3,
   "id": "7b15b0a3",
   "metadata": {},
   "outputs": [
    {
     "name": "stdout",
     "output_type": "stream",
     "text": [
      "Collecting requests\n",
      "  Downloading requests-2.32.4-py3-none-any.whl.metadata (4.9 kB)\n",
      "Collecting charset_normalizer<4,>=2 (from requests)\n",
      "  Downloading charset_normalizer-3.4.2-cp312-cp312-win_amd64.whl.metadata (36 kB)\n",
      "Requirement already satisfied: idna<4,>=2.5 in c:\\users\\asus\\documents\\github\\ml-api-prediction\\.venv\\lib\\site-packages (from requests) (3.10)\n",
      "Collecting urllib3<3,>=1.21.1 (from requests)\n",
      "  Downloading urllib3-2.5.0-py3-none-any.whl.metadata (6.5 kB)\n",
      "Collecting certifi>=2017.4.17 (from requests)\n",
      "  Downloading certifi-2025.7.14-py3-none-any.whl.metadata (2.4 kB)\n",
      "Downloading requests-2.32.4-py3-none-any.whl (64 kB)\n",
      "Downloading charset_normalizer-3.4.2-cp312-cp312-win_amd64.whl (105 kB)\n",
      "Downloading urllib3-2.5.0-py3-none-any.whl (129 kB)\n",
      "Downloading certifi-2025.7.14-py3-none-any.whl (162 kB)\n",
      "Installing collected packages: urllib3, charset_normalizer, certifi, requests\n",
      "\n",
      "   ---------------------------------------- 0/4 [urllib3]\n",
      "   ---------------------------------------- 0/4 [urllib3]\n",
      "   ---------------------------------------- 0/4 [urllib3]\n",
      "   ---------- ----------------------------- 1/4 [charset_normalizer]\n",
      "   ---------- ----------------------------- 1/4 [charset_normalizer]\n",
      "   ---------- ----------------------------- 1/4 [charset_normalizer]\n",
      "   ---------- ----------------------------- 1/4 [charset_normalizer]\n",
      "   ---------- ----------------------------- 1/4 [charset_normalizer]\n",
      "   -------------------- ------------------- 2/4 [certifi]\n",
      "   ------------------------------ --------- 3/4 [requests]\n",
      "   ---------------------------------------- 4/4 [requests]\n",
      "\n",
      "Successfully installed certifi-2025.7.14 charset_normalizer-3.4.2 requests-2.32.4 urllib3-2.5.0\n",
      "Note: you may need to restart the kernel to use updated packages.\n"
     ]
    }
   ],
   "source": [
    "%pip install requests\n",
    "\n",
    "import requests\n",
    "import json"
   ]
  },
  {
   "cell_type": "code",
   "execution_count": null,
   "id": "79ec29b0",
   "metadata": {},
   "outputs": [],
   "source": [
    "url = \"http://localhost:8000:8000/predict\"\n"
   ]
  },
  {
   "cell_type": "code",
   "execution_count": 16,
   "id": "e99c81be",
   "metadata": {},
   "outputs": [],
   "source": [
    "# Sample input data (replace with actual sample values)\n",
    "payload = {\n",
    "    \"BFG_CO\": 25.698,\n",
    "    \"BFG_CO2\": 25.309,\n",
    "    \"BFG_H2\": 4.076,\n",
    "    \"BFG_PR_DOWNSTREAM_1\": 0.082,\n",
    "    \"BFG_PR_DOWNSTREAM_2\": 0.081,\n",
    "    \"BFG_PR_DWNSTRM_CTRL_VLV_POSI_1\": 11.089,\n",
    "    \"BFG_PR_DWNSTRM_CTRL_VLV_POSI_2\": 0.48,\n",
    "    \"BFG_PR_UPSTREAM_1\": 0.101,\n",
    "    \"BFG_PR_UPSTRM_CTRL_VLV_POSI_1\": 91.765,\n",
    "    \"BFG_PR_UPSTRM_CTRL_VLV_POSI_2\": 99.105,\n",
    "    \"BFG_PRESS_DWNSTRM_PCV_8104\": 38.359,\n",
    "    \"CLEAN_GAS_PR_AFTER_DEMESTER\": 1718.808,\n",
    "    \"CLEAN_GAS_TEMP_AFTER_DEMISTER\": 32.0,\n",
    "    \"AG_ELEMENT_1_POSITION\": 43.676,\n",
    "    \"AG_ELEMENT_2_POSITION\": 43.996,\n",
    "    \"AG_ELEMENT_3_POSITION\": 42.441,\n",
    "    \"BFG_HP_NETWORK_FLOWRATE\": 15.709,\n",
    "    \"COLD_WATER_SUPPLY_PR\": 7.006,\n",
    "    \"COLD_WATER_SUPPLY_TEMP\": 38.634,\n",
    "    \"HYDRAULIC_OIL_TEMP\": 41.271,\n",
    "    \"PR_BF_GAS_SCRUBBER_HEAD\": 2.177,\n",
    "    \"PRE_SCRUBBER_LT_1\": 56.259,\n",
    "    \"PRE_SCRUBBER_LT_2\": 59.137,\n",
    "    \"PRE_SCRUBBER_LT_3\": 60.321,\n",
    "    \"PRESCRUBBER_WTR_CTRL_VLV_POSI\": 31.44,\n",
    "    \"PRESSURE_PUMP_OUTLET_PR\": 186.413,\n",
    "    \"RECIR_WTR_CTRL_VLV_POSI\": 91.345,\n",
    "    \"RECIR_WATER_FLOW\": 514.848,\n",
    "    \"RECIR_WATER_PRESS\": 4.023,\n",
    "    \"SCRUBBER_AG_LT_1\": 53.33,\n",
    "    \"SCRUBBER_AG_LT_2\": 60.372,\n",
    "    \"SCRUBBER_AG_LT_3\": 58.4,\n",
    "    \"TEMP_BF_GAS_SCRUBBER_HEAD\": 28.821,\n",
    "    \"Launder_pH\": 6.59,\n",
    "    \"Launder_Total_Hardness_ppm\": 830.0,\n",
    "    \"Launder_Chloride_ppm\": 1632.0,\n",
    "    \"Launder_TSS_ppm\": 2756.0,\n",
    "    \"Overflow_pH\": 7.14,\n",
    "    \"Overflow_Total_Hardness_ppm\": 790.0,\n",
    "    \"Overflow_chloride_ppm\": 1620.0,\n",
    "    \"Overflow_TSS_ppm\": 29.0,\n",
    "    \"GCP_pH\": 6.49,\n",
    "    \"GCP_Total_Hardness_ppm\": 840.0,\n",
    "    \"GCP_Chloride_ppm\": 1622.0\n",
    "}"
   ]
  },
  {
   "cell_type": "code",
   "execution_count": 17,
   "id": "0f25b8c0",
   "metadata": {},
   "outputs": [],
   "source": [
    "# Make POST request\n",
    "response = requests.post(url, json=payload)\n"
   ]
  },
  {
   "cell_type": "code",
   "execution_count": 18,
   "id": "a089a5aa",
   "metadata": {},
   "outputs": [
    {
     "name": "stdout",
     "output_type": "stream",
     "text": [
      "Status Code: 200\n",
      "Response JSON: {'model_used': 'random_forest', 'predicted_TOTAL_FLOW': 827.0377399999993}\n"
     ]
    }
   ],
   "source": [
    "# Display result\n",
    "print(\"Status Code:\", response.status_code)\n",
    "print(\"Response JSON:\", response.json())"
   ]
  },
  {
   "cell_type": "code",
   "execution_count": null,
   "id": "acfd6b8f",
   "metadata": {},
   "outputs": [],
   "source": []
  }
 ],
 "metadata": {
  "kernelspec": {
   "display_name": ".venv",
   "language": "python",
   "name": "python3"
  },
  "language_info": {
   "codemirror_mode": {
    "name": "ipython",
    "version": 3
   },
   "file_extension": ".py",
   "mimetype": "text/x-python",
   "name": "python",
   "nbconvert_exporter": "python",
   "pygments_lexer": "ipython3",
   "version": "3.12.6"
  }
 },
 "nbformat": 4,
 "nbformat_minor": 5
}
